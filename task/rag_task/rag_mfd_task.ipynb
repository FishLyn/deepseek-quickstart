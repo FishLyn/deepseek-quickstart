{
 "cells": [
  {
   "cell_type": "code",
   "execution_count": 1,
   "id": "fe92f0ad-37e0-4bbd-b2ca-2ba6f3b71da6",
   "metadata": {},
   "outputs": [
    {
     "name": "stdout",
     "output_type": "stream",
     "text": [
      "Looking in indexes: http://mirrors.cloud.aliyuncs.com/pypi/simple/\n",
      "Requirement already satisfied: pymilvus==2.5.10 in /root/miniconda3/envs/deepseek/lib/python3.13/site-packages (from pymilvus[model]==2.5.10) (2.5.10)\n",
      "Requirement already satisfied: openai==1.82.0 in /root/miniconda3/envs/deepseek/lib/python3.13/site-packages (1.82.0)\n",
      "Requirement already satisfied: requests==2.32.3 in /root/miniconda3/envs/deepseek/lib/python3.13/site-packages (2.32.3)\n",
      "Requirement already satisfied: tqdm==4.67.1 in /root/miniconda3/envs/deepseek/lib/python3.13/site-packages (4.67.1)\n",
      "Requirement already satisfied: torch==2.7.0 in /root/miniconda3/envs/deepseek/lib/python3.13/site-packages (2.7.0)\n",
      "Requirement already satisfied: setuptools>69 in /root/miniconda3/envs/deepseek/lib/python3.13/site-packages (from pymilvus==2.5.10->pymilvus[model]==2.5.10) (78.1.1)\n",
      "Requirement already satisfied: grpcio<=1.67.1,>=1.49.1 in /root/miniconda3/envs/deepseek/lib/python3.13/site-packages (from pymilvus==2.5.10->pymilvus[model]==2.5.10) (1.67.1)\n",
      "Requirement already satisfied: protobuf>=3.20.0 in /root/miniconda3/envs/deepseek/lib/python3.13/site-packages (from pymilvus==2.5.10->pymilvus[model]==2.5.10) (6.31.1)\n",
      "Requirement already satisfied: python-dotenv<2.0.0,>=1.0.1 in /root/miniconda3/envs/deepseek/lib/python3.13/site-packages (from pymilvus==2.5.10->pymilvus[model]==2.5.10) (1.1.0)\n",
      "Requirement already satisfied: ujson>=2.0.0 in /root/miniconda3/envs/deepseek/lib/python3.13/site-packages (from pymilvus==2.5.10->pymilvus[model]==2.5.10) (5.10.0)\n",
      "Requirement already satisfied: pandas>=1.2.4 in /root/miniconda3/envs/deepseek/lib/python3.13/site-packages (from pymilvus==2.5.10->pymilvus[model]==2.5.10) (2.3.0)\n",
      "Requirement already satisfied: milvus-lite>=2.4.0 in /root/miniconda3/envs/deepseek/lib/python3.13/site-packages (from pymilvus==2.5.10->pymilvus[model]==2.5.10) (2.4.12)\n",
      "Requirement already satisfied: anyio<5,>=3.5.0 in /root/miniconda3/envs/deepseek/lib/python3.13/site-packages (from openai==1.82.0) (4.9.0)\n",
      "Requirement already satisfied: distro<2,>=1.7.0 in /root/miniconda3/envs/deepseek/lib/python3.13/site-packages (from openai==1.82.0) (1.9.0)\n",
      "Requirement already satisfied: httpx<1,>=0.23.0 in /root/miniconda3/envs/deepseek/lib/python3.13/site-packages (from openai==1.82.0) (0.28.1)\n",
      "Requirement already satisfied: jiter<1,>=0.4.0 in /root/miniconda3/envs/deepseek/lib/python3.13/site-packages (from openai==1.82.0) (0.10.0)\n",
      "Requirement already satisfied: pydantic<3,>=1.9.0 in /root/miniconda3/envs/deepseek/lib/python3.13/site-packages (from openai==1.82.0) (2.11.7)\n",
      "Requirement already satisfied: sniffio in /root/miniconda3/envs/deepseek/lib/python3.13/site-packages (from openai==1.82.0) (1.3.1)\n",
      "Requirement already satisfied: typing-extensions<5,>=4.11 in /root/miniconda3/envs/deepseek/lib/python3.13/site-packages (from openai==1.82.0) (4.14.0)\n",
      "Requirement already satisfied: charset-normalizer<4,>=2 in /root/miniconda3/envs/deepseek/lib/python3.13/site-packages (from requests==2.32.3) (3.4.2)\n",
      "Requirement already satisfied: idna<4,>=2.5 in /root/miniconda3/envs/deepseek/lib/python3.13/site-packages (from requests==2.32.3) (3.10)\n",
      "Requirement already satisfied: urllib3<3,>=1.21.1 in /root/miniconda3/envs/deepseek/lib/python3.13/site-packages (from requests==2.32.3) (2.4.0)\n",
      "Requirement already satisfied: certifi>=2017.4.17 in /root/miniconda3/envs/deepseek/lib/python3.13/site-packages (from requests==2.32.3) (2025.6.15)\n",
      "Requirement already satisfied: filelock in /root/miniconda3/envs/deepseek/lib/python3.13/site-packages (from torch==2.7.0) (3.18.0)\n",
      "Requirement already satisfied: sympy>=1.13.3 in /root/miniconda3/envs/deepseek/lib/python3.13/site-packages (from torch==2.7.0) (1.14.0)\n",
      "Requirement already satisfied: networkx in /root/miniconda3/envs/deepseek/lib/python3.13/site-packages (from torch==2.7.0) (3.5)\n",
      "Requirement already satisfied: jinja2 in /root/miniconda3/envs/deepseek/lib/python3.13/site-packages (from torch==2.7.0) (3.1.6)\n",
      "Requirement already satisfied: fsspec in /root/miniconda3/envs/deepseek/lib/python3.13/site-packages (from torch==2.7.0) (2025.5.1)\n",
      "Requirement already satisfied: nvidia-cuda-nvrtc-cu12==12.6.77 in /root/miniconda3/envs/deepseek/lib/python3.13/site-packages (from torch==2.7.0) (12.6.77)\n",
      "Requirement already satisfied: nvidia-cuda-runtime-cu12==12.6.77 in /root/miniconda3/envs/deepseek/lib/python3.13/site-packages (from torch==2.7.0) (12.6.77)\n",
      "Requirement already satisfied: nvidia-cuda-cupti-cu12==12.6.80 in /root/miniconda3/envs/deepseek/lib/python3.13/site-packages (from torch==2.7.0) (12.6.80)\n",
      "Requirement already satisfied: nvidia-cudnn-cu12==9.5.1.17 in /root/miniconda3/envs/deepseek/lib/python3.13/site-packages (from torch==2.7.0) (9.5.1.17)\n",
      "Requirement already satisfied: nvidia-cublas-cu12==12.6.4.1 in /root/miniconda3/envs/deepseek/lib/python3.13/site-packages (from torch==2.7.0) (12.6.4.1)\n",
      "Requirement already satisfied: nvidia-cufft-cu12==11.3.0.4 in /root/miniconda3/envs/deepseek/lib/python3.13/site-packages (from torch==2.7.0) (11.3.0.4)\n",
      "Requirement already satisfied: nvidia-curand-cu12==10.3.7.77 in /root/miniconda3/envs/deepseek/lib/python3.13/site-packages (from torch==2.7.0) (10.3.7.77)\n",
      "Requirement already satisfied: nvidia-cusolver-cu12==11.7.1.2 in /root/miniconda3/envs/deepseek/lib/python3.13/site-packages (from torch==2.7.0) (11.7.1.2)\n",
      "Requirement already satisfied: nvidia-cusparse-cu12==12.5.4.2 in /root/miniconda3/envs/deepseek/lib/python3.13/site-packages (from torch==2.7.0) (12.5.4.2)\n",
      "Requirement already satisfied: nvidia-cusparselt-cu12==0.6.3 in /root/miniconda3/envs/deepseek/lib/python3.13/site-packages (from torch==2.7.0) (0.6.3)\n",
      "Requirement already satisfied: nvidia-nccl-cu12==2.26.2 in /root/miniconda3/envs/deepseek/lib/python3.13/site-packages (from torch==2.7.0) (2.26.2)\n",
      "Requirement already satisfied: nvidia-nvtx-cu12==12.6.77 in /root/miniconda3/envs/deepseek/lib/python3.13/site-packages (from torch==2.7.0) (12.6.77)\n",
      "Requirement already satisfied: nvidia-nvjitlink-cu12==12.6.85 in /root/miniconda3/envs/deepseek/lib/python3.13/site-packages (from torch==2.7.0) (12.6.85)\n",
      "Requirement already satisfied: nvidia-cufile-cu12==1.11.1.6 in /root/miniconda3/envs/deepseek/lib/python3.13/site-packages (from torch==2.7.0) (1.11.1.6)\n",
      "Requirement already satisfied: triton==3.3.0 in /root/miniconda3/envs/deepseek/lib/python3.13/site-packages (from torch==2.7.0) (3.3.0)\n",
      "Requirement already satisfied: pymilvus.model>=0.3.0 in /root/miniconda3/envs/deepseek/lib/python3.13/site-packages (from pymilvus[model]==2.5.10) (0.3.2)\n",
      "Requirement already satisfied: httpcore==1.* in /root/miniconda3/envs/deepseek/lib/python3.13/site-packages (from httpx<1,>=0.23.0->openai==1.82.0) (1.0.9)\n",
      "Requirement already satisfied: h11>=0.16 in /root/miniconda3/envs/deepseek/lib/python3.13/site-packages (from httpcore==1.*->httpx<1,>=0.23.0->openai==1.82.0) (0.16.0)\n",
      "Requirement already satisfied: annotated-types>=0.6.0 in /root/miniconda3/envs/deepseek/lib/python3.13/site-packages (from pydantic<3,>=1.9.0->openai==1.82.0) (0.7.0)\n",
      "Requirement already satisfied: pydantic-core==2.33.2 in /root/miniconda3/envs/deepseek/lib/python3.13/site-packages (from pydantic<3,>=1.9.0->openai==1.82.0) (2.33.2)\n",
      "Requirement already satisfied: typing-inspection>=0.4.0 in /root/miniconda3/envs/deepseek/lib/python3.13/site-packages (from pydantic<3,>=1.9.0->openai==1.82.0) (0.4.1)\n",
      "Requirement already satisfied: numpy>=1.26.0 in /root/miniconda3/envs/deepseek/lib/python3.13/site-packages (from pandas>=1.2.4->pymilvus==2.5.10->pymilvus[model]==2.5.10) (2.3.0)\n",
      "Requirement already satisfied: python-dateutil>=2.8.2 in /root/miniconda3/envs/deepseek/lib/python3.13/site-packages (from pandas>=1.2.4->pymilvus==2.5.10->pymilvus[model]==2.5.10) (2.9.0.post0)\n",
      "Requirement already satisfied: pytz>=2020.1 in /root/miniconda3/envs/deepseek/lib/python3.13/site-packages (from pandas>=1.2.4->pymilvus==2.5.10->pymilvus[model]==2.5.10) (2025.2)\n",
      "Requirement already satisfied: tzdata>=2022.7 in /root/miniconda3/envs/deepseek/lib/python3.13/site-packages (from pandas>=1.2.4->pymilvus==2.5.10->pymilvus[model]==2.5.10) (2025.2)\n",
      "Requirement already satisfied: transformers>=4.36.0 in /root/miniconda3/envs/deepseek/lib/python3.13/site-packages (from pymilvus.model>=0.3.0->pymilvus[model]==2.5.10) (4.52.4)\n",
      "Requirement already satisfied: onnxruntime in /root/miniconda3/envs/deepseek/lib/python3.13/site-packages (from pymilvus.model>=0.3.0->pymilvus[model]==2.5.10) (1.22.0)\n",
      "Requirement already satisfied: scipy>=1.10.0 in /root/miniconda3/envs/deepseek/lib/python3.13/site-packages (from pymilvus.model>=0.3.0->pymilvus[model]==2.5.10) (1.15.3)\n",
      "Requirement already satisfied: six>=1.5 in /root/miniconda3/envs/deepseek/lib/python3.13/site-packages (from python-dateutil>=2.8.2->pandas>=1.2.4->pymilvus==2.5.10->pymilvus[model]==2.5.10) (1.17.0)\n",
      "Requirement already satisfied: mpmath<1.4,>=1.1.0 in /root/miniconda3/envs/deepseek/lib/python3.13/site-packages (from sympy>=1.13.3->torch==2.7.0) (1.3.0)\n",
      "Requirement already satisfied: huggingface-hub<1.0,>=0.30.0 in /root/miniconda3/envs/deepseek/lib/python3.13/site-packages (from transformers>=4.36.0->pymilvus.model>=0.3.0->pymilvus[model]==2.5.10) (0.33.0)\n",
      "Requirement already satisfied: packaging>=20.0 in /root/miniconda3/envs/deepseek/lib/python3.13/site-packages (from transformers>=4.36.0->pymilvus.model>=0.3.0->pymilvus[model]==2.5.10) (25.0)\n",
      "Requirement already satisfied: pyyaml>=5.1 in /root/miniconda3/envs/deepseek/lib/python3.13/site-packages (from transformers>=4.36.0->pymilvus.model>=0.3.0->pymilvus[model]==2.5.10) (6.0.2)\n",
      "Requirement already satisfied: regex!=2019.12.17 in /root/miniconda3/envs/deepseek/lib/python3.13/site-packages (from transformers>=4.36.0->pymilvus.model>=0.3.0->pymilvus[model]==2.5.10) (2024.11.6)\n",
      "Requirement already satisfied: tokenizers<0.22,>=0.21 in /root/miniconda3/envs/deepseek/lib/python3.13/site-packages (from transformers>=4.36.0->pymilvus.model>=0.3.0->pymilvus[model]==2.5.10) (0.21.1)\n",
      "Requirement already satisfied: safetensors>=0.4.3 in /root/miniconda3/envs/deepseek/lib/python3.13/site-packages (from transformers>=4.36.0->pymilvus.model>=0.3.0->pymilvus[model]==2.5.10) (0.5.3)\n",
      "Requirement already satisfied: hf-xet<2.0.0,>=1.1.2 in /root/miniconda3/envs/deepseek/lib/python3.13/site-packages (from huggingface-hub<1.0,>=0.30.0->transformers>=4.36.0->pymilvus.model>=0.3.0->pymilvus[model]==2.5.10) (1.1.4)\n",
      "Requirement already satisfied: MarkupSafe>=2.0 in /root/miniconda3/envs/deepseek/lib/python3.13/site-packages (from jinja2->torch==2.7.0) (3.0.2)\n",
      "Requirement already satisfied: coloredlogs in /root/miniconda3/envs/deepseek/lib/python3.13/site-packages (from onnxruntime->pymilvus.model>=0.3.0->pymilvus[model]==2.5.10) (15.0.1)\n",
      "Requirement already satisfied: flatbuffers in /root/miniconda3/envs/deepseek/lib/python3.13/site-packages (from onnxruntime->pymilvus.model>=0.3.0->pymilvus[model]==2.5.10) (25.2.10)\n",
      "Requirement already satisfied: humanfriendly>=9.1 in /root/miniconda3/envs/deepseek/lib/python3.13/site-packages (from coloredlogs->onnxruntime->pymilvus.model>=0.3.0->pymilvus[model]==2.5.10) (10.0)\n",
      "\u001b[33mWARNING: Running pip as the 'root' user can result in broken permissions and conflicting behaviour with the system package manager, possibly rendering your system unusable. It is recommended to use a virtual environment instead: https://pip.pypa.io/warnings/venv. Use the --root-user-action option if you know what you are doing and want to suppress this warning.\u001b[0m\u001b[33m\n",
      "\u001b[0m"
     ]
    }
   ],
   "source": [
    "!pip install \"pymilvus[model]==2.5.10\" openai==1.82.0 requests==2.32.3 tqdm==4.67.1 torch==2.7.0"
   ]
  },
  {
   "cell_type": "code",
   "execution_count": 83,
   "id": "9d41b0e6-7576-4916-8e1d-879def8b69c0",
   "metadata": {},
   "outputs": [],
   "source": [
    "import os\n",
    "\n",
    "api_key = os.getenv(\"DEEPSEEK_API_KEY\")"
   ]
  },
  {
   "cell_type": "code",
   "execution_count": 64,
   "id": "651ca0b8-7b7c-45de-984a-0e603e838aef",
   "metadata": {},
   "outputs": [],
   "source": [
    "from glob import glob\n",
    "\n",
    "text_lines = []\n",
    "\n",
    "for file_path in glob(\"./mfd.md\", recursive=True):\n",
    "    # 以只读模式读取文件内容\n",
    "    with open(file_path, \"r\") as file:\n",
    "        file_text = file.read()\n",
    "\n",
    "    # 以空行分割段落\n",
    "    text_lines += file_text.split(\"# \")"
   ]
  },
  {
   "cell_type": "code",
   "execution_count": 65,
   "id": "4f6e0f91-0d8e-4e8a-8bcd-41c72be852e1",
   "metadata": {},
   "outputs": [
    {
     "data": {
      "text/plain": [
       "30"
      ]
     },
     "execution_count": 65,
     "metadata": {},
     "output_type": "execute_result"
    }
   ],
   "source": [
    "len(text_lines)"
   ]
  },
  {
   "cell_type": "code",
   "execution_count": 66,
   "id": "9c3424fd-da43-4a4f-90e4-33672249f758",
   "metadata": {},
   "outputs": [
    {
     "name": "stdout",
     "output_type": "stream",
     "text": [
      "768\n"
     ]
    }
   ],
   "source": [
    "# 定义向量模型\n",
    "from pymilvus import model as milvus_model\n",
    "\n",
    "embedding_model = milvus_model.DefaultEmbeddingFunction()\n",
    "\n",
    "# 获取文本向量维度\n",
    "test_embedding = embedding_model.encode_queries([\"测试文本\"])[0]\n",
    "embedding_dim = len(test_embedding)\n",
    "print(embedding_dim)"
   ]
  },
  {
   "cell_type": "code",
   "execution_count": 69,
   "id": "b7338774-4809-4a0d-9c2c-92735baceafd",
   "metadata": {},
   "outputs": [],
   "source": [
    "# 创建 collection\n",
    "from pymilvus import MilvusClient\n",
    "\n",
    "milvus_client = MilvusClient(uri=\"./my_milvus.db\")\n",
    "collection_name = \"mfd_collection\""
   ]
  },
  {
   "cell_type": "code",
   "execution_count": 70,
   "id": "2ca64957-5565-420e-8452-d9e3bb7bacbe",
   "metadata": {},
   "outputs": [],
   "source": [
    "if milvus_client.has_collection(collection_name):\n",
    "    milvus_client.drop_collection(collection_name)"
   ]
  },
  {
   "cell_type": "code",
   "execution_count": 71,
   "id": "b2a37b28-89dc-490d-ae9d-5b4df1b0f022",
   "metadata": {},
   "outputs": [],
   "source": [
    "milvus_client.create_collection(\n",
    "    collection_name=collection_name,\n",
    "    dimension=embedding_dim,\n",
    "    metric_type=\"IP\",\n",
    "    consistency_level=\"Strong\"\n",
    ")"
   ]
  },
  {
   "cell_type": "code",
   "execution_count": 72,
   "id": "bebd3dd8-a7a2-402e-81bb-c4f7f6c21a2b",
   "metadata": {},
   "outputs": [
    {
     "name": "stderr",
     "output_type": "stream",
     "text": [
      "creating embeddings: 100%|██████████| 30/30 [00:00<00:00, 285975.27it/s]\n"
     ]
    },
    {
     "data": {
      "text/plain": [
       "{'insert_count': 30, 'ids': [0, 1, 2, 3, 4, 5, 6, 7, 8, 9, 10, 11, 12, 13, 14, 15, 16, 17, 18, 19, 20, 21, 22, 23, 24, 25, 26, 27, 28, 29], 'cost': 0}"
      ]
     },
     "execution_count": 72,
     "metadata": {},
     "output_type": "execute_result"
    }
   ],
   "source": [
    "# 数据插入\n",
    "# 可视化进度\n",
    "from tqdm import tqdm\n",
    "\n",
    "data = []\n",
    "\n",
    "doc_embeddings = embedding_model.encode_documents(text_lines)\n",
    "\n",
    "for i, line in enumerate(tqdm(text_lines, desc=\"creating embeddings\")):\n",
    "    data.append({ \"id\": i, \"vector\": doc_embeddings[i], \"text\": line })\n",
    "\n",
    "milvus_client.insert(collection_name=collection_name, data=data)"
   ]
  },
  {
   "cell_type": "code",
   "execution_count": 89,
   "id": "d4ea8216-fee4-43b6-bde5-5ab4d8473074",
   "metadata": {},
   "outputs": [],
   "source": [
    "# 构建问题\n",
    "question = \"合同的变更和转让\""
   ]
  },
  {
   "cell_type": "code",
   "execution_count": 90,
   "id": "077969ac-fb87-432a-8f95-7249f3987dc3",
   "metadata": {},
   "outputs": [],
   "source": [
    "# 在 milvus collection 中获取相关的法律条例\n",
    "search_res = milvus_client.search(\n",
    "    collection_name=collection_name,\n",
    "    data=embedding_model.encode_queries([question]),\n",
    "    limit=5,\n",
    "    search_params={ \"metric_type\": \"IP\", \"params\": {} },\n",
    "    output_fields=[\"text\"]\n",
    ")"
   ]
  },
  {
   "cell_type": "code",
   "execution_count": 91,
   "id": "1b2f037d-e5b0-4a56-a359-ac5159ea14c8",
   "metadata": {},
   "outputs": [
    {
     "name": "stdout",
     "output_type": "stream",
     "text": [
      "[\n",
      "    [\n",
      "        \"第三章 合同的变更和转让\\n\\n**第五百四十八条** 当事人协商一致，可以变更合同。\\n\\n**第五百四十九条** 当事人对合同变更的内容约定不明确的，推定为未变更。\\n\\n**第五百五十条** 债权人可以将合同的权利全部或者部分转让给第三人，但是有下列情形之一的除外：\\n（一）根据合同性质不得转让；\\n（二）按照当事人约定不得转让；\\n（三）依照法律规定不得转让。\\n债权人转让权利的，应当通知债务人。未经通知，该转让对债务人不发生效力。\\n\\n**第五百五十一条** 债权人转让权利的，受让人取得与债权有关的从权利，但是该从权利专属于债权人自身的除外。\\n\\n**第五百五十二条** 债务人将合同的义务全部或者部分转让给第三人的，应当经债权人同意。\\n\\n**第五百五十三条** 债务人转让义务的，新债务人可以主张原债务人对债权人的抗辩。\\n新债务人承担债务的，应当承担与主债务有关的从债务，但是该从债务专属于原债务人自身的除外。\\n\\n**第五百五十四条** 当事人一方经对方同意，可以将自己在合同中的权利和义务一并转让给第三人。\\n\\n**第五百五十五条** 权利和义务一并转让的，适用债权转让、债务转让的有关规定。\\n\\n**第五百五十六条** 合同变更的，不影响当事人请求损害赔偿的权利。\\n\\n###\",\n",
      "        0.6202714443206787\n",
      "    ],\n",
      "    [\n",
      "        \"第五章 占有\\n\\n**第四百七十一条** 占有是指对物事实上的控制和支配。\\n\\n**第四百七十二条** 占有可以分为直接占有和间接占有。\\n直接占有是指直接对物进行控制和支配。\\n间接占有是指通过他人对物进行控制和支配。\\n\\n**第四百七十三条** 占有的取得和消灭，适用本法有关物权设立和消灭的规定。\\n\\n**第四百七十四条** 占有人合法占有动产的，善意取得人取得该动产所有权。\\n占有人非法占有动产的，善意取得人取得该动产所有权。\\n\\n**第四百七十五条** 占有物毁损、灭失的，占有人应当承担赔偿责任。\\n占有人善意占有物的，不承担赔偿责任。\\n占有人恶意占有物的，应当承担赔偿责任。\\n\\n**第四百七十六条** 占有被侵夺的，占有人有权请求返还原物。\\n占有物毁损、灭失的，占有人有权请求赔偿损失。\\n\\n**第四百七十七条** 占有被侵夺的，占有人有权请求返还原物。\\n占有物毁损、灭失的，占有人有权请求赔偿损失。\\n\\n**第四百七十八条** 占有物毁损、灭失的，占有人应当承担赔偿责任。\\n占有人善意占有物的，不承担赔偿责任。\\n占有人恶意占有物的，应当承担赔偿责任。\\n\\n**第四百七十九条** 占有被侵夺的，占有人有权请求返还原物。\\n占有物毁损、灭失的，占有人有权请求赔偿损失。\\n\\n**第四百八十条** 占有物被侵夺的，占有人有权请求返还原物。\\n占有物毁损、灭失的，占有人有权请求赔偿损失。\\n\\n------\\n\\n##\",\n",
      "        0.6135170459747314\n",
      "    ],\n",
      "    [\n",
      "        \"第六节 地役权\\n\\n**第三百八十八条** 地役权人有权依照合同约定，利用他人的不动产，以提高自己的不动产的效益。\\n前款所称他人的不动产为供役地，自己的不动产为需役地。\\n\\n**第三百八十九条** 地役权合同一般包括下列条款：\\n（一）当事人的姓名或者名称和住所；\\n（二）供役地和需役地的位置；\\n（三）地役权的目的和期限；\\n（四）利用供役地的方式；\\n（五）报酬及其支付方式；\\n（六）争议解决方式。\\n\\n**第三百九十条** 设立地役权，当事人应当依照法律规定办理登记。\\n未经登记，不得对抗善意第三人。\\n\\n**第三百九十一条** 地役权人有权依照合同约定，利用供役地，以提高需役地的效益。\\n地役权人行使权利，不得损害供役地权利人的合法权益。\\n\\n**第三百九十二条** 供役地权利人应当按照约定，允许地役权人利用其土地。\\n供役地权利人不得妨碍地役权人行使权利。\\n\\n**第三百九十三条** 地役权期限届满或者地役权人放弃地役权的，地役权消灭。\\n地役权消灭的，登记机构应当依法办理注销登记。\\n\\n**第三百九十四条** 地役权人应当按照合同约定支付报酬。\\n地役权人应当按照合同约定，以合理的方式利用供役地。\\n\\n**第三百九十五条** 地役权不得单独转让。土地承包经营权、建设用地使用权、宅基地使用权等权利转让的，地役权一并转让。\\n地役权不得单独抵押。土地承包经营权、建设用地使用权、宅基地使用权等权利抵押的，地役权一并抵押。\\n\\n**第三百九十六条** 地役权存续期间，供役地权利人将供役地转让、出租或者抵押的，地役权不受影响。\\n\\n**第三百九十七条** 地役权因供役地权利人将供役地转让、出租或者抵押而消灭的，地役权人有权请求赔偿损失。\\n地役权因供役地权利人将供役地转让、出租或者抵押而消灭的，地役权人可以向供役地权利人请求损害赔偿。\\n\\n**第三百九十八条** 地役权人有权依照合同约定，利用他人的不动产，以提高自己的不动产的效益。\\n前款所称他人的不动产为供役地，自己的不动产为需役地。\\n\\n###\",\n",
      "        0.6055375337600708\n",
      "    ],\n",
      "    [\n",
      "        \"第一节 一般规定\\n\\n**第三百九十九条** 担保物权人在债务人不履行到期债务或者发生当事人约定的实现担保物权的情形，有权依照法律规定以担保财产优先受偿。\\n\\n**第四百条** 担保物权包括抵押权、质权和留置权。\\n\\n**第四百零一条** 设立担保物权，当事人应当依照法律规定办理登记。\\n未经登记，不发生物权效力。\\n\\n**第四百零二条** 法律、行政法规对担保物权有特别规定的，依照其规定。\\n\\n**第四百零三条** 担保物权人在债务人不履行到期债务或者发生当事人约定的实现担保物权的情形，有权依照法律规定以担保财产优先受偿。\\n\\n**第四百零四条** 担保物权所担保的债权的范围，包括主债权及其利息、违约金、损害赔偿金和实现担保物权的费用。\\n当事人另有约定的，依照其约定。\\n\\n**第四百零五条** 债务人履行债务或者担保物权消灭的，担保物权消灭。\\n\\n**第四百零六条** 法律、行政法规对担保物权有特别规定的，依照其规定。\\n\\n**第四百零七条** 担保物权人有权对担保财产的孳息优先受偿。\\n当事人另有约定的，依照其约定。\\n\\n**第四百零八条** 担保物权消灭的，登记机构应当依法办理注销登记。\\n\\n####\",\n",
      "        0.5957679748535156\n",
      "    ],\n",
      "    [\n",
      "        \"第二节 土地承包经营权\\n\\n**第三百五十八条** 土地承包经营权人依照法律规定，对集体所有的土地和国家所有由集体经济组织承包的土地，享有占有、使用和收益的权利，有权从事种植业、林业、畜牧业等农业生产。\\n\\n**第三百五十九条** 土地承包经营权人可以按照法律规定，将土地承包经营权互换、转让。\\n当事人通过互换、转让方式取得土地承包经营权的，未经登记，不得对抗善意第三人。\\n\\n**第三百六十条** 土地承包经营权人依法对承包地享有占有、使用、收益的权利。\\n土地承包经营权人可以采取出租、入股或者其他方式流转土地经营权。\\n\\n**第三百六十一条** 土地承包经营权人可以根据法律规定，将土地承包经营权互换、转让。\\n互换、转让后，土地承包经营权人依法享有土地承包经营权。\\n\\n**第三百六十二条** 土地经营权人有权在合同约定的期限内占有农村土地，开展农业生产经营并取得收益。\\n\\n**第三百六十三条** 土地经营权人可以依照法律规定，将土地经营权转让、出租、入股或者以其他方式流转。\\n未经登记，不得对抗善意第三人。\\n\\n**第三百六十四条** 耕地的承包期为三十年。草地的承包期为三十年至五十年。林地的承包期为三十年至七十年。\\n\\n**第三百六十五条** 土地承包经营权人依法享有承包地上的生产经营自主权。\\n土地承包经营权人可以采取出租、入股或者其他方式流转土地经营权。\\n\\n**第三百六十六条** 承包期届满，由土地承包经营权人按照国家有关规定继续承包。\\n法律另有规定的，依照其规定。\\n\\n####\",\n",
      "        0.5943198800086975\n",
      "    ]\n",
      "]\n"
     ]
    }
   ],
   "source": [
    "import json\n",
    "\n",
    "retrieved_lines_with_distances = [\n",
    "    (res[\"entity\"][\"text\"], res[\"distance\"]) for res in search_res[0]\n",
    "]\n",
    "\n",
    "print(json.dumps(retrieved_lines_with_distances, indent=4, ensure_ascii=False))"
   ]
  },
  {
   "cell_type": "code",
   "execution_count": 92,
   "id": "aa3db9af-0e55-43d1-af37-5b11bb924ae1",
   "metadata": {},
   "outputs": [],
   "source": [
    "context = \"\\n\".join(\n",
    "    (line_with_distance[0]) for line_with_distance in retrieved_lines_with_distances\n",
    ")"
   ]
  },
  {
   "cell_type": "code",
   "execution_count": 93,
   "id": "31d79d11-4e02-48e0-a394-fb848ac09334",
   "metadata": {},
   "outputs": [
    {
     "data": {
      "text/plain": [
       "'第三章 合同的变更和转让\\n\\n**第五百四十八条** 当事人协商一致，可以变更合同。\\n\\n**第五百四十九条** 当事人对合同变更的内容约定不明确的，推定为未变更。\\n\\n**第五百五十条** 债权人可以将合同的权利全部或者部分转让给第三人，但是有下列情形之一的除外：\\n（一）根据合同性质不得转让；\\n（二）按照当事人约定不得转让；\\n（三）依照法律规定不得转让。\\n债权人转让权利的，应当通知债务人。未经通知，该转让对债务人不发生效力。\\n\\n**第五百五十一条** 债权人转让权利的，受让人取得与债权有关的从权利，但是该从权利专属于债权人自身的除外。\\n\\n**第五百五十二条** 债务人将合同的义务全部或者部分转让给第三人的，应当经债权人同意。\\n\\n**第五百五十三条** 债务人转让义务的，新债务人可以主张原债务人对债权人的抗辩。\\n新债务人承担债务的，应当承担与主债务有关的从债务，但是该从债务专属于原债务人自身的除外。\\n\\n**第五百五十四条** 当事人一方经对方同意，可以将自己在合同中的权利和义务一并转让给第三人。\\n\\n**第五百五十五条** 权利和义务一并转让的，适用债权转让、债务转让的有关规定。\\n\\n**第五百五十六条** 合同变更的，不影响当事人请求损害赔偿的权利。\\n\\n###\\n第五章 占有\\n\\n**第四百七十一条** 占有是指对物事实上的控制和支配。\\n\\n**第四百七十二条** 占有可以分为直接占有和间接占有。\\n直接占有是指直接对物进行控制和支配。\\n间接占有是指通过他人对物进行控制和支配。\\n\\n**第四百七十三条** 占有的取得和消灭，适用本法有关物权设立和消灭的规定。\\n\\n**第四百七十四条** 占有人合法占有动产的，善意取得人取得该动产所有权。\\n占有人非法占有动产的，善意取得人取得该动产所有权。\\n\\n**第四百七十五条** 占有物毁损、灭失的，占有人应当承担赔偿责任。\\n占有人善意占有物的，不承担赔偿责任。\\n占有人恶意占有物的，应当承担赔偿责任。\\n\\n**第四百七十六条** 占有被侵夺的，占有人有权请求返还原物。\\n占有物毁损、灭失的，占有人有权请求赔偿损失。\\n\\n**第四百七十七条** 占有被侵夺的，占有人有权请求返还原物。\\n占有物毁损、灭失的，占有人有权请求赔偿损失。\\n\\n**第四百七十八条** 占有物毁损、灭失的，占有人应当承担赔偿责任。\\n占有人善意占有物的，不承担赔偿责任。\\n占有人恶意占有物的，应当承担赔偿责任。\\n\\n**第四百七十九条** 占有被侵夺的，占有人有权请求返还原物。\\n占有物毁损、灭失的，占有人有权请求赔偿损失。\\n\\n**第四百八十条** 占有物被侵夺的，占有人有权请求返还原物。\\n占有物毁损、灭失的，占有人有权请求赔偿损失。\\n\\n------\\n\\n##\\n第六节 地役权\\n\\n**第三百八十八条** 地役权人有权依照合同约定，利用他人的不动产，以提高自己的不动产的效益。\\n前款所称他人的不动产为供役地，自己的不动产为需役地。\\n\\n**第三百八十九条** 地役权合同一般包括下列条款：\\n（一）当事人的姓名或者名称和住所；\\n（二）供役地和需役地的位置；\\n（三）地役权的目的和期限；\\n（四）利用供役地的方式；\\n（五）报酬及其支付方式；\\n（六）争议解决方式。\\n\\n**第三百九十条** 设立地役权，当事人应当依照法律规定办理登记。\\n未经登记，不得对抗善意第三人。\\n\\n**第三百九十一条** 地役权人有权依照合同约定，利用供役地，以提高需役地的效益。\\n地役权人行使权利，不得损害供役地权利人的合法权益。\\n\\n**第三百九十二条** 供役地权利人应当按照约定，允许地役权人利用其土地。\\n供役地权利人不得妨碍地役权人行使权利。\\n\\n**第三百九十三条** 地役权期限届满或者地役权人放弃地役权的，地役权消灭。\\n地役权消灭的，登记机构应当依法办理注销登记。\\n\\n**第三百九十四条** 地役权人应当按照合同约定支付报酬。\\n地役权人应当按照合同约定，以合理的方式利用供役地。\\n\\n**第三百九十五条** 地役权不得单独转让。土地承包经营权、建设用地使用权、宅基地使用权等权利转让的，地役权一并转让。\\n地役权不得单独抵押。土地承包经营权、建设用地使用权、宅基地使用权等权利抵押的，地役权一并抵押。\\n\\n**第三百九十六条** 地役权存续期间，供役地权利人将供役地转让、出租或者抵押的，地役权不受影响。\\n\\n**第三百九十七条** 地役权因供役地权利人将供役地转让、出租或者抵押而消灭的，地役权人有权请求赔偿损失。\\n地役权因供役地权利人将供役地转让、出租或者抵押而消灭的，地役权人可以向供役地权利人请求损害赔偿。\\n\\n**第三百九十八条** 地役权人有权依照合同约定，利用他人的不动产，以提高自己的不动产的效益。\\n前款所称他人的不动产为供役地，自己的不动产为需役地。\\n\\n###\\n第一节 一般规定\\n\\n**第三百九十九条** 担保物权人在债务人不履行到期债务或者发生当事人约定的实现担保物权的情形，有权依照法律规定以担保财产优先受偿。\\n\\n**第四百条** 担保物权包括抵押权、质权和留置权。\\n\\n**第四百零一条** 设立担保物权，当事人应当依照法律规定办理登记。\\n未经登记，不发生物权效力。\\n\\n**第四百零二条** 法律、行政法规对担保物权有特别规定的，依照其规定。\\n\\n**第四百零三条** 担保物权人在债务人不履行到期债务或者发生当事人约定的实现担保物权的情形，有权依照法律规定以担保财产优先受偿。\\n\\n**第四百零四条** 担保物权所担保的债权的范围，包括主债权及其利息、违约金、损害赔偿金和实现担保物权的费用。\\n当事人另有约定的，依照其约定。\\n\\n**第四百零五条** 债务人履行债务或者担保物权消灭的，担保物权消灭。\\n\\n**第四百零六条** 法律、行政法规对担保物权有特别规定的，依照其规定。\\n\\n**第四百零七条** 担保物权人有权对担保财产的孳息优先受偿。\\n当事人另有约定的，依照其约定。\\n\\n**第四百零八条** 担保物权消灭的，登记机构应当依法办理注销登记。\\n\\n####\\n第二节 土地承包经营权\\n\\n**第三百五十八条** 土地承包经营权人依照法律规定，对集体所有的土地和国家所有由集体经济组织承包的土地，享有占有、使用和收益的权利，有权从事种植业、林业、畜牧业等农业生产。\\n\\n**第三百五十九条** 土地承包经营权人可以按照法律规定，将土地承包经营权互换、转让。\\n当事人通过互换、转让方式取得土地承包经营权的，未经登记，不得对抗善意第三人。\\n\\n**第三百六十条** 土地承包经营权人依法对承包地享有占有、使用、收益的权利。\\n土地承包经营权人可以采取出租、入股或者其他方式流转土地经营权。\\n\\n**第三百六十一条** 土地承包经营权人可以根据法律规定，将土地承包经营权互换、转让。\\n互换、转让后，土地承包经营权人依法享有土地承包经营权。\\n\\n**第三百六十二条** 土地经营权人有权在合同约定的期限内占有农村土地，开展农业生产经营并取得收益。\\n\\n**第三百六十三条** 土地经营权人可以依照法律规定，将土地经营权转让、出租、入股或者以其他方式流转。\\n未经登记，不得对抗善意第三人。\\n\\n**第三百六十四条** 耕地的承包期为三十年。草地的承包期为三十年至五十年。林地的承包期为三十年至七十年。\\n\\n**第三百六十五条** 土地承包经营权人依法享有承包地上的生产经营自主权。\\n土地承包经营权人可以采取出租、入股或者其他方式流转土地经营权。\\n\\n**第三百六十六条** 承包期届满，由土地承包经营权人按照国家有关规定继续承包。\\n法律另有规定的，依照其规定。\\n\\n####'"
      ]
     },
     "execution_count": 93,
     "metadata": {},
     "output_type": "execute_result"
    }
   ],
   "source": [
    "context"
   ]
  },
  {
   "cell_type": "code",
   "execution_count": 94,
   "id": "13c562ba-683b-4dc6-85be-a7390a3054ec",
   "metadata": {},
   "outputs": [
    {
     "data": {
      "text/plain": [
       "'合同的变更和转让'"
      ]
     },
     "execution_count": 94,
     "metadata": {},
     "output_type": "execute_result"
    }
   ],
   "source": [
    "question"
   ]
  },
  {
   "cell_type": "code",
   "execution_count": 95,
   "id": "74c5b12d-8465-401b-8d4a-7c7b7d10b8b4",
   "metadata": {},
   "outputs": [],
   "source": [
    "# 定义 deepseek 问答助手\n",
    "from openai import OpenAI\n",
    "\n",
    "deepseek_client = OpenAI(\n",
    "    api_key=api_key,\n",
    "    base_url = \"https://api.deepseek.com/v1\"\n",
    ")"
   ]
  },
  {
   "cell_type": "code",
   "execution_count": 100,
   "id": "1df609b1-ddb1-46c9-9c0d-2d594bc3fca3",
   "metadata": {},
   "outputs": [],
   "source": [
    "# 定义 prompt\n",
    "SYSTEM_PROMPT = \"\"\"\n",
    "你是一个 ai 问答小助手，你可以使用提供的上下文回答问题\n",
    "\"\"\"\n",
    "USER_PROMPT = f\"\"\"\n",
    "请使用<context>标签内的上下文来回答<question>标签内的问题\n",
    "<question>\n",
    "{question}\n",
    "</question>\n",
    "<context>\n",
    "{context}\n",
    "</context>\n",
    "\"\"\""
   ]
  },
  {
   "cell_type": "code",
   "execution_count": 101,
   "id": "73b7ec5c-f140-4e3f-bb8d-90f3265d0e65",
   "metadata": {},
   "outputs": [
    {
     "name": "stdout",
     "output_type": "stream",
     "text": [
      "根据《context》中第三章关于\"合同的变更和转让\"的规定，主要内容如下：\n",
      "\n",
      "一、合同变更\n",
      "1. 变更条件（第五百四十八条）：需当事人协商一致方可变更合同。\n",
      "2. 变更不明效力（第五百四十九条）：对变更内容约定不明确的，推定为未变更。\n",
      "3. 变更后果（第五百五十六条）：合同变更不影响当事人请求损害赔偿的权利。\n",
      "\n",
      "二、合同权利转让（债权转让）\n",
      "1. 转让原则（第五百五十条）：\n",
      "   - 允许全部或部分转让给第三人\n",
      "   - 三种禁止情形：依合同性质/当事人约定/法律规定不得转让\n",
      "   - 需通知债务人，否则对债务人不生效\n",
      "2. 从权利处理（第五百五十一条）：受让人取得与债权相关的从权利（专属于债权人的除外）\n",
      "\n",
      "三、合同义务转让（债务承担）\n",
      "1. 转让条件（第五百五十二条）：须经债权人同意\n",
      "2. 抗辩权继承（第五百五十三条）：\n",
      "   - 新债务人可主张原债务人的抗辩\n",
      "   - 需承担与主债务相关的从债务（专属于原债务人的除外）\n",
      "\n",
      "四、权利义务概括转让（第五百五十四条）\n",
      "1. 需经对方同意\n",
      "2. 适用规则（第五百五十五条）：同时适用债权转让和债务转让的规定\n",
      "\n",
      "注：第五章\"占有\"及后续关于地役权、担保物权等内容与合同变更转让无直接关联，故未纳入本回答。\n"
     ]
    }
   ],
   "source": [
    "response=deepseek_client.chat.completions.create(\n",
    "    model=\"deepseek-chat\",\n",
    "    messages=[\n",
    "        {\"role\": \"system\", \"content\": SYSTEM_PROMPT},\n",
    "        {\"role\": \"user\", \"content\": USER_PROMPT}\n",
    "    ]\n",
    ")\n",
    "print(response.choices[0].message.content)"
   ]
  },
  {
   "cell_type": "code",
   "execution_count": 102,
   "id": "e767ec64-9531-46cd-a542-7a6424339ac3",
   "metadata": {},
   "outputs": [],
   "source": [
    "question=\"宅基地使用权\""
   ]
  },
  {
   "cell_type": "code",
   "execution_count": 103,
   "id": "eb9b4405-1b5e-473e-b179-ad5127fa63b4",
   "metadata": {},
   "outputs": [],
   "source": [
    "search_res = milvus_client.search(\n",
    "    collection_name=collection_name,\n",
    "    data=embedding_model.encode_queries([question]),\n",
    "    limit=5,\n",
    "    search_params={ \"metric_type\": \"IP\", \"params\": {} },\n",
    "    output_fields=[\"text\"]\n",
    ")"
   ]
  },
  {
   "cell_type": "code",
   "execution_count": 104,
   "id": "cad0197f-6636-4538-a92c-3bd2ee665d8f",
   "metadata": {},
   "outputs": [],
   "source": [
    "retrieved_lines_with_distances = [\n",
    "    (res[\"entity\"][\"text\"], res[\"distance\"]) for res in search_res[0]\n",
    "]"
   ]
  },
  {
   "cell_type": "code",
   "execution_count": 105,
   "id": "f931623c-72ec-40ba-a59c-aea7defd3a8d",
   "metadata": {},
   "outputs": [],
   "source": [
    "context = \"\\n\".join(\n",
    "    (line_with_distance[0]) for line_with_distance in retrieved_lines_with_distances\n",
    ")"
   ]
  },
  {
   "cell_type": "code",
   "execution_count": 106,
   "id": "74b710eb-430d-41a9-857b-51c5c6eefd67",
   "metadata": {},
   "outputs": [],
   "source": [
    "SYSTEM_PROMPT = \"\"\"\n",
    "你是一个 ai 问答小助手，你可以使用提供的上下文回答问题\n",
    "\"\"\"\n",
    "USER_PROMPT = f\"\"\"\n",
    "请使用<context>标签内的上下文来回答<question>标签内的问题\n",
    "<question>\n",
    "{question}\n",
    "</question>\n",
    "<context>\n",
    "{context}\n",
    "</context>\n",
    "\"\"\""
   ]
  },
  {
   "cell_type": "code",
   "execution_count": null,
   "id": "30f25455-f63d-49a4-925b-0318337fa04f",
   "metadata": {},
   "outputs": [
    {
     "name": "stdout",
     "output_type": "stream",
     "text": [
      "根据提供的上下文，关于**宅基地使用权**的明确规定主要出现在**地役权**一节（第三百九十五条），具体内容如下：\n",
      "\n",
      "1. **宅基地使用权的转让与地役权的关系**  \n",
      "   第三百九十五条规定：  \n",
      "   - 地役权不得单独转让或抵押。但若**宅基地使用权**等权利发生转让或抵押时，地役权需一并转让或抵押。  \n",
      "   - 即宅基地使用权的处分（如转让、抵押）将导致其附属的地役权同步转移。\n",
      "\n",
      "2. **宅基地使用权的法律属性**  \n",
      "   上下文虽未直接定义宅基地使用权，但结合相关条款可推断其属于用益物权的一种：  \n",
      "   - 类似**土地承包经营权**（第三百五十八条），宅基地使用权人应享有对集体土地的占有、使用和收益权。  \n",
      "   - 其转让需遵循物权登记规则（如第三百九十条），未经登记不得对抗善意第三人。\n",
      "\n",
      "3. **其他关联规则**  \n",
      "   - 若宅基地涉及地役权（如通行、排水等），需遵守地役权合同的约定（第三百八十九条）。  \n",
      "   - 担保物权实现时（如抵押宅基地），担保权人可优先受偿（第三百九十九条）。\n",
      "\n",
      "**结论**：上下文未系统规定宅基地使用权的全部内容，但明确其转让或抵押时需连带处理地役权，并受物权登记、合同约定等一般规则约束。具体权能可参考土地承包经营权的类似条款（占有、使用、收益）。\n"
     ]
    }
   ],
   "source": [
    "response=deepseek_client.chat.completions.create(\n",
    "    model=\"deepseek-chat\",\n",
    "    messages=[\n",
    "        {\"role\": \"system\", \"content\": SYSTEM_PROMPT},\n",
    "        {\"role\": \"user\", \"content\": USER_PROMPT}\n",
    "    ]\n",
    ")\n",
    "print(response.choices[0].message.content)"
   ]
  },
  {
   "cell_type": "code",
   "execution_count": null,
   "id": "ffbccf7e-de76-4773-a7cd-f639e97adc83",
   "metadata": {},
   "outputs": [],
   "source": []
  }
 ],
 "metadata": {
  "kernelspec": {
   "display_name": "Python 3 (ipykernel)",
   "language": "python",
   "name": "python3"
  },
  "language_info": {
   "codemirror_mode": {
    "name": "ipython",
    "version": 3
   },
   "file_extension": ".py",
   "mimetype": "text/x-python",
   "name": "python",
   "nbconvert_exporter": "python",
   "pygments_lexer": "ipython3",
   "version": "3.13.5"
  }
 },
 "nbformat": 4,
 "nbformat_minor": 5
}
