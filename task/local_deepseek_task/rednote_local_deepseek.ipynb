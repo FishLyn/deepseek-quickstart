{
 "cells": [
  {
   "cell_type": "code",
   "execution_count": 1,
   "id": "07ae19af-a4aa-4d91-ae9f-851cdb6012be",
   "metadata": {},
   "outputs": [],
   "source": [
    "from openai import OpenAI\n",
    "\n",
    "ollama_client = OpenAI(\n",
    "    api_key=\"ollama\",\n",
    "    base_url=\"http://127.0.0.1:11434/v1/\"\n",
    ")"
   ]
  },
  {
   "cell_type": "code",
   "execution_count": 31,
   "id": "4e7480f1-e810-47ed-b67a-683c9869ff8b",
   "metadata": {},
   "outputs": [],
   "source": [
    "# 设置提示词\n",
    "SYSTEM_PROMPT = \"\"\"\n",
    "你是一个资深的小红书爆款文案专家，擅长结合最新潮流和产品卖点，创作引人入胜、高互动、高转化的笔记文案。\n",
    "\n",
    "你的任务是根据用户提供的产品和需求，生成包含标题、正文、相关标签和表情符号的完整小红书笔记。\n",
    "\n",
    "文案风格需活泼、真诚、富有感染力。当完成任务后，请以JSON格式直接输出最终文案，格式如下：\n",
    "```json\n",
    "{\n",
    "  \"title\": \"小红书标题\",\n",
    "  \"body\": \"小红书正文\",\n",
    "  \"hashtags\": [\"#标签1\", \"#标签2\", \"#标签3\", \"#标签4\", \"#标签5\"],\n",
    "  \"emojis\": [\"✨\", \"🔥\", \"💖\"]\n",
    "}\n",
    "```\n",
    "在生成文案前，请务必先思考并收集足够的信息。\n",
    "\"\"\""
   ]
  },
  {
   "cell_type": "code",
   "execution_count": 43,
   "id": "08809672-9ece-43ef-b3ca-d23ff0fa4c0a",
   "metadata": {},
   "outputs": [],
   "source": [
    "# agent 核心代码\n",
    "import json\n",
    "import re\n",
    "\n",
    "def generate_rednote(product_name: str, tone_style: str = \"活泼甜美\", max_iterations: int = 5) -> str:\n",
    "    \"\"\"\n",
    "    使用 DeepSeek Agent 生成小红书爆款文案。\n",
    "    \"\"\"\n",
    "    \n",
    "    print(f\"\\n🚀 启动小红书文案生成助手，产品：{product_name}，风格：{tone_style}\\n\")\n",
    "    \n",
    "    # 存储对话历史，包括系统提示词和用户请求\n",
    "    messages = [\n",
    "        {\"role\": \"system\", \"content\": SYSTEM_PROMPT},\n",
    "        {\"role\": \"user\", \"content\": f\"请为产品「{product_name}」生成一篇小红书爆款文案。要求：语气{tone_style}，包含标题、正文、至少5个相关标签和5个表情符号。请以完整的JSON格式输出，并使用markdown语法 ```json```包裹起来。\"}\n",
    "    ]\n",
    "    \n",
    "    try:\n",
    "        # 调用 DeepSeek API，传入对话历史和工具定义\n",
    "        response = ollama_client.chat.completions.create(\n",
    "            model=\"deepseek-r1:1.5b\",\n",
    "            messages=messages\n",
    "        )\n",
    "\n",
    "        response_message = response.choices[0].message\n",
    "        \n",
    "        print(f\"[模型生成结果] {response_message.content}\")\n",
    "            \n",
    "        # --- START: 添加 JSON 提取和解析逻辑 ---\n",
    "        json_string_match = re.search(r\"```json\\s*(\\{.*\\})\\s*```\", response_message.content, re.DOTALL)\n",
    "        \n",
    "        if json_string_match:\n",
    "            extracted_json_content = json_string_match.group(1)\n",
    "            try:\n",
    "                final_response = json.loads(extracted_json_content)\n",
    "                print(\"任务完成，成功解析最终JSON文案。\")\n",
    "                return json.dumps(final_response, ensure_ascii=False, indent=2)\n",
    "            except json.JSONDecodeError as e:\n",
    "                print(f\"提取到JSON块但解析失败: {e}\")\n",
    "                print(f\"尝试解析的字符串:\\n{extracted_json_content}\")\n",
    "                messages.append(response_message) # 解析失败，继续对话\n",
    "        else:\n",
    "            # 如果没有匹配到 ```json 块，尝试直接解析整个 content\n",
    "            try:\n",
    "                final_response = json.loads(response_message.content)\n",
    "                print(\"任务完成，直接解析最终JSON文案。\")\n",
    "                return json.dumps(final_response, ensure_ascii=False, indent=2)\n",
    "            except json.JSONDecodeError:\n",
    "                print(\"生成了非JSON格式内容或非Markdown JSON块，可能还在思考或出错。\")\n",
    "                messages.append(response_message) # 非JSON格式，继续对话\n",
    "        # --- END: 添加 JSON 提取和解析逻辑 ---\n",
    "            \n",
    "    except Exception as e:\n",
    "        print(f\"调用 DeepSeek API 时发生错误: {e}\")\n",
    "        \n",
    "    return \"未能成功生成文案。\""
   ]
  },
  {
   "cell_type": "code",
   "execution_count": null,
   "id": "5df895d7-dcb7-42d4-b629-c35e248158eb",
   "metadata": {},
   "outputs": [
    {
     "name": "stdout",
     "output_type": "stream",
     "text": [
      "\n",
      "🚀 启动小红书文案生成助手，产品：BOSE 蓝牙降噪耳机，风格：调皮活泼\n",
      "\n"
     ]
    }
   ],
   "source": [
    "# 测试案例 1: 黑松露抗老面霜\n",
    "product_name_1 = \"BOSE 蓝牙降噪耳机\"\n",
    "tone_style_1 = \"调皮活泼\"\n",
    "result_1 = generate_rednote(product_name_1, tone_style_1)\n",
    "\n",
    "print(result_1)"
   ]
  },
  {
   "cell_type": "code",
   "execution_count": null,
   "id": "3aae9572-57bd-4676-b125-a43bc08c2c79",
   "metadata": {},
   "outputs": [],
   "source": []
  }
 ],
 "metadata": {
  "kernelspec": {
   "display_name": "Python 3 (ipykernel)",
   "language": "python",
   "name": "python3"
  },
  "language_info": {
   "codemirror_mode": {
    "name": "ipython",
    "version": 3
   },
   "file_extension": ".py",
   "mimetype": "text/x-python",
   "name": "python",
   "nbconvert_exporter": "python",
   "pygments_lexer": "ipython3",
   "version": "3.13.5"
  }
 },
 "nbformat": 4,
 "nbformat_minor": 5
}
